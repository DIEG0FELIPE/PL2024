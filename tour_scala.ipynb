{
 "cells": [
  {
   "cell_type": "markdown",
   "metadata": {},
   "source": [
    "Ejemplo básico de print y tipos de declaración de variables"
   ]
  },
  {
   "cell_type": "code",
   "execution_count": null,
   "metadata": {},
   "outputs": [],
   "source": [
    "val nombre: String = \"Scala\"\n",
    "var contador: Int = 10\n",
    "\n",
    "println(s\"Hola, $nombre!\")\n",
    "println(s\"Contador inicial: $contador\")"
   ]
  },
  {
   "cell_type": "code",
   "execution_count": null,
   "metadata": {},
   "outputs": [],
   "source": [
    "nombre = \"Lenguajes\""
   ]
  },
  {
   "cell_type": "code",
   "execution_count": null,
   "metadata": {},
   "outputs": [],
   "source": [
    "// Modificar variable mutable\n",
    "contador += 1\n",
    "println(s\"Contador después de incrementar: $contador\")"
   ]
  },
  {
   "cell_type": "markdown",
   "metadata": {},
   "source": [
    "La variable declarada como var se puede modificar, mientras que la declarada como val no"
   ]
  },
  {
   "cell_type": "markdown",
   "metadata": {},
   "source": [
    "Se tienen las mismas estructuras que en otros lenguajes de programación"
   ]
  },
  {
   "cell_type": "code",
   "execution_count": null,
   "metadata": {},
   "outputs": [],
   "source": [
    "// Estructura if\n",
    "val numero = 5\n",
    "if (numero > 0) {\n",
    "  println(s\"$numero es positivo\")\n",
    "} else {\n",
    "  println(s\"$numero es negativo o cero\")\n",
    "}"
   ]
  },
  {
   "cell_type": "code",
   "execution_count": null,
   "metadata": {},
   "outputs": [],
   "source": [
    "// Estructura for\n",
    "for (i <- 1 to 5) {\n",
    "    println(s\"Iteración $i\")\n",
    "}"
   ]
  },
  {
   "cell_type": "code",
   "execution_count": null,
   "metadata": {},
   "outputs": [],
   "source": [
    "// Estructura while\n",
    "var contador = 3\n",
    "while (contador > 0) {\n",
    "    println(s\"Contador: $contador\")\n",
    "    contador -= 1\n",
    "}"
   ]
  },
  {
   "cell_type": "markdown",
   "metadata": {},
   "source": [
    "Tipos de datos soportados por Scala"
   ]
  },
  {
   "cell_type": "code",
   "execution_count": null,
   "metadata": {},
   "outputs": [],
   "source": [
    "// Tipos básicos\n",
    "val unEntero: Int = 42\n",
    "val unDoble: Double = 3.14\n",
    "val unString: String = \"Scala\"\n",
    "val unBooleano: Boolean = true\n",
    "\n",
    "println(s\"Entero: $unEntero, Doble: $unDoble, String: $unString, Booleano: $unBooleano\")\n"
   ]
  },
  {
   "cell_type": "markdown",
   "metadata": {},
   "source": [
    "También se incluye null y Unit, que equivale al void de Java"
   ]
  },
  {
   "cell_type": "code",
   "execution_count": null,
   "metadata": {},
   "outputs": [],
   "source": [
    "// Listas\n",
    "val listaNumeros: List[Int] = List(1, 2, 3, 4, 5)\n",
    "println(s\"Lista de números: $listaNumeros\")\n"
   ]
  },
  {
   "cell_type": "code",
   "execution_count": null,
   "metadata": {},
   "outputs": [],
   "source": [
    "// Mapas\n",
    "val mapaEdades: Map[String, Int] = Map(\"Alice\" -> 25, \"Bob\" -> 30)\n",
    "println(s\"Mapa de edades: $mapaEdades\")"
   ]
  },
  {
   "cell_type": "markdown",
   "metadata": {},
   "source": [
    "Clases en Scala"
   ]
  },
  {
   "cell_type": "code",
   "execution_count": null,
   "metadata": {},
   "outputs": [],
   "source": [
    "case class Persona(nombre: String, edad: Int)\n",
    "\n",
    "// Creación de instancias de la case class\n",
    "val persona1 = Persona(\"Alice\", 25)\n",
    "val persona2 = Persona(\"Bob\", 30)\n",
    "var persona3 = Persona(\"Charlie\", 17)\n",
    "val persona4 = Persona(\"Diana\", 22)\n"
   ]
  },
  {
   "cell_type": "code",
   "execution_count": null,
   "metadata": {},
   "outputs": [],
   "source": [
    "// Imprimir las instancias\n",
    "println(persona1) // Persona(Alice,25)\n",
    "println(persona2) // Persona(Bob,30)\n"
   ]
  },
  {
   "cell_type": "code",
   "execution_count": null,
   "metadata": {},
   "outputs": [],
   "source": [
    "// Comparación estructural\n",
    "val persona5 = Persona(\"Alice\", 25)\n",
    "println(persona1 == persona5) // true\n"
   ]
  },
  {
   "cell_type": "code",
   "execution_count": null,
   "metadata": {},
   "outputs": [],
   "source": [
    "// Uso del método copy\n",
    "val persona6 = persona1.copy(edad = 26)\n",
    "println(persona6) // Persona(Alice,26)"
   ]
  },
  {
   "cell_type": "markdown",
   "metadata": {},
   "source": [
    "Pattern Matching"
   ]
  },
  {
   "cell_type": "code",
   "execution_count": null,
   "metadata": {},
   "outputs": [],
   "source": [
    "// Función que utiliza pattern matching\n",
    "def describirPersona(persona: Persona): String = persona match {\n",
    "  case Persona(\"Alice\", 25) => \"Esta es Alice y tiene 25 años.\"\n",
    "  case Persona(\"Bob\", 30) => \"Este es Bob y tiene 30 años.\"\n",
    "  case Persona(nombre, edad) if edad < 18 => s\"$nombre es menor de edad.\"\n",
    "  case Persona(nombre, edad) => s\"$nombre tiene $edad años.\"\n",
    "}"
   ]
  },
  {
   "cell_type": "code",
   "execution_count": null,
   "metadata": {},
   "outputs": [],
   "source": [
    "// Usar la función describirPersona\n",
    "println(describirPersona(persona1)) // Esta es Alice y tiene 25 años.\n",
    "println(describirPersona(persona2)) // Este es Bob y tiene 30 años.\n",
    "println(describirPersona(persona3)) // Charlie es menor de edad.\n",
    "println(describirPersona(persona4)) // Diana tiene 22 años."
   ]
  },
  {
   "cell_type": "markdown",
   "metadata": {},
   "source": [
    "Funciones en Scala"
   ]
  },
  {
   "cell_type": "code",
   "execution_count": null,
   "metadata": {},
   "outputs": [],
   "source": [
    "// Definición de una función\n",
    "def suma(a: Int, b: Int): Int = {\n",
    "a + b\n",
    "}\n",
    "\n",
    "// Llamada a la función\n",
    "val resultado = suma(3, 4)\n",
    "println(s\"Resultado de la suma: $resultado\")\n",
    "\n",
    "// Función con parámetros por defecto\n",
    "def saludo(nombre: String = \"Mundo\"): String = {\n",
    "s\"Hola, $nombre!\"\n",
    "}\n",
    "\n",
    "// Llamada a la función con y sin argumento\n",
    "println(saludo(\"Scala\"))\n",
    "println(saludo())"
   ]
  }
 ],
 "metadata": {
  "kernelspec": {
   "display_name": "Python 3",
   "language": "python",
   "name": "python3"
  },
  "language_info": {
   "codemirror_mode": {
    "name": "ipython",
    "version": 3
   },
   "file_extension": ".py",
   "mimetype": "text/x-python",
   "name": "python",
   "nbconvert_exporter": "python",
   "pygments_lexer": "ipython3",
   "version": "3.11.9"
  }
 },
 "nbformat": 4,
 "nbformat_minor": 2
}
