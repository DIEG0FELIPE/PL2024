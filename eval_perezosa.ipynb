{
 "cells": [
  {
   "cell_type": "markdown",
   "metadata": {},
   "source": [
    "EVALUACIÓN PEREZOSA"
   ]
  },
  {
   "cell_type": "code",
   "execution_count": null,
   "metadata": {},
   "outputs": [],
   "source": [
    "// Definición de una LazyList infinita de números naturales\n",
    "lazy val naturalNumbers: LazyList[Int] = {\n",
    "    println(\"Generando la LazyList de números naturales...\")\n",
    "    LazyList.from(0)\n",
    "}\n",
    "lazy val expensiveComputation: Int = {\n",
    "    println(\"Realizando una computación costosa...\")\n",
    "    42\n",
    "}"
   ]
  },
  {
   "cell_type": "code",
   "execution_count": null,
   "metadata": {},
   "outputs": [],
   "source": [
    "// Tomamos los primeros 10 números naturales de la LazyList\n",
    "println(\"Antes de acceder a naturalNumbers\")\n",
    "val firstTen = naturalNumbers.take(10).toList\n",
    "println(\"Después de acceder a naturalNumbers\")\n",
    "println(s\"Los primeros 10 números naturales son: $firstTen\")"
   ]
  },
  {
   "cell_type": "code",
   "execution_count": null,
   "metadata": {},
   "outputs": [],
   "source": [
    "//Obtenemos la informacion de la variable expensiveComputation\n",
    "println(\"Antes de acceder a expensiveComputation\")\n",
    "println(s\"El valor de expensiveComputation es: $expensiveComputation\")\n",
    "println(\"Después de acceder a expensiveComputation\")"
   ]
  }
 ],
 "metadata": {
  "language_info": {
   "name": "python"
  }
 },
 "nbformat": 4,
 "nbformat_minor": 2
}
