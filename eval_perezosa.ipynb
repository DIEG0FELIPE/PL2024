{
 "cells": [
  {
   "cell_type": "markdown",
   "metadata": {},
   "source": [
    "EVALUACIÓN PEREZOSA"
   ]
  },
  {
   "cell_type": "code",
   "execution_count": null,
   "metadata": {},
   "outputs": [],
   "source": [
    "// Definición de una LazyList infinita de números naturales\n",
    "lazy val naturalNumbers: LazyList[Int] = LazyList.from(0)\n"
   ]
  },
  {
   "cell_type": "code",
   "execution_count": null,
   "metadata": {},
   "outputs": [],
   "source": [
    "// Tomamos los primeros 10 números naturales de la LazyList\n",
    "val firstTen = naturalNumbers.take(10).toList\n",
    "\n",
    "// Imprimimos los primeros 10 números naturales\n",
    "println(s\"Los primeros 10 números naturales son: $firstTen\")"
   ]
  }
 ],
 "metadata": {
  "language_info": {
   "name": "python"
  }
 },
 "nbformat": 4,
 "nbformat_minor": 2
}
