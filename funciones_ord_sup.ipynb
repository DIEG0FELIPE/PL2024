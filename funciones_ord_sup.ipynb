{
 "cells": [
  {
   "cell_type": "markdown",
   "metadata": {},
   "source": [
    "FUNCIONES DE ORDEN SUPERIOR"
   ]
  },
  {
   "cell_type": "code",
   "execution_count": null,
   "metadata": {},
   "outputs": [],
   "source": [
    "// Definición de una función de orden superior\n",
    "def applyTwice(f: Int => Int, x: Int): Int = {\n",
    "  f(f(x))\n",
    "}"
   ]
  },
  {
   "cell_type": "code",
   "execution_count": null,
   "metadata": {},
   "outputs": [],
   "source": [
    "// Definición de una función simple (argumento)\n",
    "def addOne(n: Int): Int = n + 1"
   ]
  },
  {
   "cell_type": "code",
   "execution_count": null,
   "metadata": {},
   "outputs": [],
   "source": [
    "// Uso de la función de orden superior\n",
    "val result = applyTwice(addOne, 5)\n",
    "\n",
    "println(s\"El resultado de aplicar la función dos veces es: $result\")"
   ]
  },
  {
   "cell_type": "markdown",
   "metadata": {},
   "source": [
    "Una función anónima es aquella que no se define previamente con un nombre"
   ]
  },
  {
   "cell_type": "code",
   "execution_count": null,
   "metadata": {},
   "outputs": [],
   "source": [
    "//Usando una función anónima\n",
    "val new_result = applyTwice((n: Int) => n + 2, 5)\n",
    "\n",
    "println(s\"El resultado de aplicar la función anónima dos veces es: $new_result\")\n"
   ]
  }
 ],
 "metadata": {
  "language_info": {
   "name": "python"
  }
 },
 "nbformat": 4,
 "nbformat_minor": 2
}
